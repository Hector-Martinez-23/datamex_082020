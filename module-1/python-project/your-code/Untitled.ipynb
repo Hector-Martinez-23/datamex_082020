{
 "cells": [
  {
   "cell_type": "code",
   "execution_count": 27,
   "metadata": {},
   "outputs": [],
   "source": [
    "palos=['espadas','tréboles','corazones','diamantes']\n",
    "def generar():\n",
    "    baraja=[]\n",
    "    for i in range(4):\n",
    "        for j in range(13):\n",
    "            baraja.append([j+1,palos[i]])\n",
    "    return baraja\n",
    "baraja_1=generar()"
   ]
  },
  {
   "cell_type": "code",
   "execution_count": 28,
   "metadata": {},
   "outputs": [],
   "source": [
    "#cant_jug=int(input(\"Cuántos jugadores participarán: \"))\n",
    "jugadores=[]\n",
    "montos=[]\n",
    "def nombre(n):\n",
    "    nombre=input(f'Ingresa el nombre del jugador {n}: ')\n",
    "    return nombre\n",
    "\n",
    "def dinero(n):\n",
    "    monto=int(input(f'¿Cuánto dinero apostará el jugador {n}?'))\n",
    "    return monto"
   ]
  },
  {
   "cell_type": "code",
   "execution_count": 29,
   "metadata": {},
   "outputs": [
    {
     "data": {
      "text/plain": [
       "8"
      ]
     },
     "execution_count": 29,
     "metadata": {},
     "output_type": "execute_result"
    }
   ],
   "source": [
    "vueltas=52//(3*cant_jug)\n",
    "vueltas"
   ]
  },
  {
   "cell_type": "code",
   "execution_count": 35,
   "metadata": {},
   "outputs": [
    {
     "name": "stdout",
     "output_type": "stream",
     "text": [
      "Cuántos jugadores participarán: 2\n",
      "************************************************\n",
      "Ingresa el nombre del jugador 1: oli\n",
      "¿Cuánto dinero apostará el jugador 1?: 9\n",
      "************************************************\n",
      "Ingresa el nombre del jugador 2: l\n",
      "¿Cuánto dinero apostará el jugador 2?: 5\n",
      "************************************************\n",
      "Tus cartas son: 12 de espadas y 6 de tréboles\n",
      "oli ingresa tu apuesta (máxima de $2 y mínima de $1): 2\n",
      "Tu juego final fue: 12 de espadas, 4 de espadas y 6 de tréboles\n",
      "perdiste\n",
      "************************************************\n",
      "Tus cartas son: 4 de tréboles y 9 de tréboles\n",
      "l ingresa tu apuesta (máxima de $4 y mínima de $1): 4\n",
      "Tu juego final fue: 4 de tréboles, 12 de tréboles y 9 de tréboles\n",
      "perdiste\n",
      "Fin del juego, el centro tiene $8\n",
      "oli terminó con $6\n",
      "l terminó con $0\n"
     ]
    }
   ],
   "source": [
    "palos=['espadas','tréboles','corazones','diamantes']\n",
    "def generar():\n",
    "    baraja=[]\n",
    "    for i in range(4):\n",
    "        for j in range(13):\n",
    "            baraja.append([j+1,palos[i]])\n",
    "    return baraja\n",
    "baraja_1=generar()\n",
    "\n",
    "def nombre(n):\n",
    "    print(\"************************************************\")\n",
    "    nombre=input(f'Ingresa el nombre del jugador {n}: ')\n",
    "    return nombre\n",
    "\n",
    "def dinero(n):\n",
    "    monto=int(input(f'¿Cuánto dinero apostará el jugador {n}?: '))\n",
    "    return monto\n",
    "\n",
    "cant_jug=int(input(\"Cuántos jugadores participarán: \"))\n",
    "vueltas=52//(3*cant_jug)\n",
    "\n",
    "jugadores=[]\n",
    "montos=[]\n",
    "\n",
    "h=0\n",
    "while h<cant_jug:\n",
    "    jugador=nombre(h+1)\n",
    "    dine=dinero(h+1)\n",
    "    if jugador in jugadores or dine <= 1:\n",
    "        print(\"Nombre repetido o monto menor o igual a uno\")\n",
    "    else:\n",
    "        jugadores.append(jugador)\n",
    "        montos.append(dine-1)\n",
    "        h+=1\n",
    "        \n",
    "import random\n",
    "centro=len(jugadores)\n",
    "\n",
    "def resultado(car1,car3,car2,apu):\n",
    "    if car1[0]<car3[0]<car2[0]:\n",
    "        print(f'Ganaste ${apu}')\n",
    "        return 'g'\n",
    "    elif car1[0]==car2[0]==car3[0]:\n",
    "        print(f'Ganaste el bote')\n",
    "        return 'gt'\n",
    "    else:\n",
    "        print(\"perdiste\")\n",
    "        return 'p'\n",
    "    \n",
    "while centro>0:\n",
    "    for j in range(len(jugadores)):\n",
    "        carta1=random.choice(baraja_1)\n",
    "        baraja_1.remove(carta1)\n",
    "        carta2=random.choice(baraja_1)\n",
    "        baraja_1.remove(carta2)\n",
    "        print(\"************************************************\")\n",
    "        print(f'Tus cartas son: {carta1[0]} de {carta1[1]} y {carta2[0]} de {carta2[1]}')\n",
    "        if montos[j]>centro:\n",
    "            apuesta=int(input(f'{jugadores[j]} ingresa tu apuesta (máxima de ${centro} y mínima de $1): '))\n",
    "        else:\n",
    "            apuesta=int(input(f'{jugadores[j]} ingresa tu apuesta (máxima de ${montos[j]} y mínima de $1): '))\n",
    "        carta3=random.choice(baraja_1)\n",
    "        baraja_1.remove(carta3)\n",
    "        print(f'Tu juego final fue: {carta1[0]} de {carta1[1]}, {carta3[0]} de {carta3[1]} y {carta2[0]} de {carta2[1]}')\n",
    "        solucion=resultado(carta1,carta3,carta2,apuesta)\n",
    "        if solucion=='g':\n",
    "            centro-=apuesta\n",
    "            montos[j]=montos[j]+apuesta\n",
    "        elif solucion=='gt':\n",
    "            centro-=apuesta\n",
    "            montos[j]=montos[j]+apuesta\n",
    "        elif solucion=='p':\n",
    "            centro+=apuesta\n",
    "            montos[j]=montos[j]-apuesta\n",
    "        if montos[j]==0 or centro==0:\n",
    "            print(f'Fin del juego, el centro tiene ${centro}')\n",
    "            centro=0\n",
    "            break\n",
    "    if len(baraja_1)==52-(vueltas*cant_jug):\n",
    "        baraja_1=generar()\n",
    "        \n",
    "                          \n",
    "for g in range(len(jugadores)):\n",
    "    print(f'{jugadores[g]} terminó con ${montos[g]}')\n",
    "\n",
    "    "
   ]
  },
  {
   "cell_type": "code",
   "execution_count": null,
   "metadata": {},
   "outputs": [],
   "source": []
  }
 ],
 "metadata": {
  "kernelspec": {
   "display_name": "Python 3",
   "language": "python",
   "name": "python3"
  },
  "language_info": {
   "codemirror_mode": {
    "name": "ipython",
    "version": 3
   },
   "file_extension": ".py",
   "mimetype": "text/x-python",
   "name": "python",
   "nbconvert_exporter": "python",
   "pygments_lexer": "ipython3",
   "version": "3.7.6"
  }
 },
 "nbformat": 4,
 "nbformat_minor": 4
}

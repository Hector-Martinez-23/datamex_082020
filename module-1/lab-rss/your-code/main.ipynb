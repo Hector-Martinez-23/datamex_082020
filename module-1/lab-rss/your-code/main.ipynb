{
 "cells": [
  {
   "cell_type": "markdown",
   "metadata": {},
   "source": [
    "# Working with RSS Feeds Lab\n",
    "\n",
    "Complete the following set of exercises to solidify your knowledge of parsing RSS feeds and extracting information from them."
   ]
  },
  {
   "cell_type": "code",
   "execution_count": 1,
   "metadata": {},
   "outputs": [],
   "source": [
    "import feedparser"
   ]
  },
  {
   "cell_type": "markdown",
   "metadata": {},
   "source": [
    "### 1. Use feedparser to parse the following RSS feed URL."
   ]
  },
  {
   "cell_type": "code",
   "execution_count": 2,
   "metadata": {},
   "outputs": [],
   "source": [
    "url = 'http://feeds.feedburner.com/oreilly/radar/atom'"
   ]
  },
  {
   "cell_type": "code",
   "execution_count": 3,
   "metadata": {},
   "outputs": [],
   "source": [
    "reddit=feedparser.parse(url)"
   ]
  },
  {
   "cell_type": "markdown",
   "metadata": {},
   "source": [
    "### 2. Obtain a list of components (keys) that are available for this feed."
   ]
  },
  {
   "cell_type": "code",
   "execution_count": 4,
   "metadata": {},
   "outputs": [
    {
     "data": {
      "text/plain": [
       "dict_keys(['feed', 'entries', 'bozo', 'headers', 'etag', 'updated', 'updated_parsed', 'href', 'status', 'encoding', 'version', 'namespaces'])"
      ]
     },
     "execution_count": 4,
     "metadata": {},
     "output_type": "execute_result"
    }
   ],
   "source": [
    "reddit.keys()"
   ]
  },
  {
   "cell_type": "markdown",
   "metadata": {},
   "source": [
    "### 3. Obtain a list of components (keys) that are available for the *feed* component of this RSS feed."
   ]
  },
  {
   "cell_type": "code",
   "execution_count": 5,
   "metadata": {},
   "outputs": [
    {
     "data": {
      "text/plain": [
       "dict_keys(['title', 'title_detail', 'links', 'link', 'subtitle', 'subtitle_detail', 'updated', 'updated_parsed', 'language', 'sy_updateperiod', 'sy_updatefrequency', 'generator_detail', 'generator', 'feedburner_info', 'geo_lat', 'geo_long', 'feedburner_emailserviceid', 'feedburner_feedburnerhostname'])"
      ]
     },
     "execution_count": 5,
     "metadata": {},
     "output_type": "execute_result"
    }
   ],
   "source": [
    "reddit.feed.keys()"
   ]
  },
  {
   "cell_type": "markdown",
   "metadata": {},
   "source": [
    "### 4. Extract and print the feed title, subtitle, author, and link."
   ]
  },
  {
   "cell_type": "code",
   "execution_count": 12,
   "metadata": {},
   "outputs": [
    {
     "name": "stdout",
     "output_type": "stream",
     "text": [
      "autor: Radar, title: Now, next, and beyond: Tracking need-to-know trends at the intersection of business and technology, author: unkown, link: https://www.oreilly.com/radar\n"
     ]
    }
   ],
   "source": [
    "print(f'autor: {reddit.feed.title}, title: {reddit.feed.subtitle}, author: unkown, link: {reddit.feed.link}')"
   ]
  },
  {
   "cell_type": "markdown",
   "metadata": {},
   "source": [
    "### 5. Count the number of entries that are contained in this RSS feed."
   ]
  },
  {
   "cell_type": "code",
   "execution_count": 19,
   "metadata": {},
   "outputs": [
    {
     "name": "stdout",
     "output_type": "stream",
     "text": [
      "the number of entries is 60\n"
     ]
    }
   ],
   "source": [
    "print(f'the number of entries is {len(reddit.entries)}')"
   ]
  },
  {
   "cell_type": "markdown",
   "metadata": {},
   "source": [
    "### 6. Obtain a list of components (keys) available for an entry.\n",
    "\n",
    "*Hint: Remember to index first before requesting the keys*"
   ]
  },
  {
   "cell_type": "code",
   "execution_count": 34,
   "metadata": {},
   "outputs": [
    {
     "data": {
      "text/plain": [
       "['title',\n",
       " 'title_detail',\n",
       " 'links',\n",
       " 'link',\n",
       " 'comments',\n",
       " 'published',\n",
       " 'published_parsed',\n",
       " 'authors',\n",
       " 'author',\n",
       " 'author_detail',\n",
       " 'tags',\n",
       " 'id',\n",
       " 'guidislink',\n",
       " 'summary',\n",
       " 'summary_detail',\n",
       " 'content',\n",
       " 'wfw_commentrss',\n",
       " 'slash_comments',\n",
       " 'feedburner_origlink']"
      ]
     },
     "execution_count": 34,
     "metadata": {},
     "output_type": "execute_result"
    }
   ],
   "source": [
    "list(reddit.entries[0].keys())"
   ]
  },
  {
   "cell_type": "markdown",
   "metadata": {},
   "source": [
    "### 7. Extract a list of entry titles."
   ]
  },
  {
   "cell_type": "code",
   "execution_count": 40,
   "metadata": {},
   "outputs": [
    {
     "data": {
      "text/plain": [
       "['Four Short Links: 19 August 2020',\n",
       " 'Why Best-of-Breed is a Better Choice than All-in-One Platforms for Data Science',\n",
       " 'Four short links: 14 August 2020',\n",
       " 'The Least Liked Programming Languages',\n",
       " 'Four short links: 11 Aug 2020',\n",
       " 'Four short links: 7 Aug 2020',\n",
       " 'Four short links: 5 August 2020',\n",
       " 'Radar trends to watch: August 2020',\n",
       " 'Four short links: 31 July 2020',\n",
       " 'Four short links: 30 July 2020',\n",
       " 'Four short links: 29 July 2020',\n",
       " 'Bringing an AI Product to Market',\n",
       " 'Power, Harms, and Data',\n",
       " 'Four short links: 27 July 2020',\n",
       " 'Four short links: 24 July 2020',\n",
       " 'Four short links: 26 July 2020',\n",
       " 'Four short links: 22 July 2020',\n",
       " 'AI, Protests, and Justice',\n",
       " 'Four short links: 21 July 2020',\n",
       " 'Four short links: 20 July 2020',\n",
       " 'Four short links: 17 July 2020',\n",
       " 'Four short links: 16 July 2020',\n",
       " 'Microservices Adoption in 2020',\n",
       " 'Four short links: 15 July 2020',\n",
       " 'Society-Centered Design',\n",
       " 'Four short links: 14 July 2020',\n",
       " 'Four short links: 13 July 2020',\n",
       " 'Four short links: 10 July 2020',\n",
       " 'Automated Coding and the Future of Programming',\n",
       " 'Four short links: 9 July 2020',\n",
       " 'Four short links: 8 July 2020',\n",
       " 'Four short links: 7 July 2020',\n",
       " 'Four short links: 6 July 2020',\n",
       " 'Four short links: 3 July 2020',\n",
       " 'Four short links: 2 July 2020',\n",
       " 'Radar trends to watch: July 2020',\n",
       " 'Four short links: 1 July 2020',\n",
       " 'Four short links: 30 June 2020',\n",
       " 'Four short links: 29 June 2020',\n",
       " 'Four short links: 28 June 2020',\n",
       " 'Four short links: 25 June 2020',\n",
       " 'COVID-19 and Complex Systems',\n",
       " 'Four short links: 24 June 2020',\n",
       " 'Four short links: 23 June 2020',\n",
       " 'Four short links: 22 June 2020',\n",
       " 'Four short links: June 19, 2020',\n",
       " 'Four short links: 17 June 2020',\n",
       " 'Decision-Making in a Time of Crisis',\n",
       " 'Four short links: 16 June 2020',\n",
       " 'Four short links: 15 June 2020',\n",
       " 'Four short links: 12 June 2020',\n",
       " 'Four short links: 11 June 2020',\n",
       " 'Four short links: 10 June 2020',\n",
       " 'Machine Learning and the Production Gap',\n",
       " 'Four short links: 9 June 2020',\n",
       " 'Radar trends to watch: June 2020',\n",
       " 'Four short links: 8 June 2020',\n",
       " 'Four short links: 5 June 2020',\n",
       " 'Four short links: 4 June 2020',\n",
       " 'The Business of Open Source']"
      ]
     },
     "execution_count": 40,
     "metadata": {},
     "output_type": "execute_result"
    }
   ],
   "source": [
    "titles=[]\n",
    "for i in range(len(reddit.entries)):\n",
    "    titles.append(reddit.entries[i].title)\n",
    "titles"
   ]
  },
  {
   "cell_type": "markdown",
   "metadata": {},
   "source": [
    "### 8. Calculate the percentage of \"Four short links\" entry titles."
   ]
  },
  {
   "cell_type": "code",
   "execution_count": 41,
   "metadata": {},
   "outputs": [
    {
     "name": "stdout",
     "output_type": "stream",
     "text": [
      "The percentage is: 73.33333333333333%\n"
     ]
    }
   ],
   "source": [
    "s='Four short links'\n",
    "cont=0\n",
    "for g in titles:\n",
    "    if s in g:\n",
    "        cont+=1\n",
    "print(f'The percentage is: {(cont/len(titles))*100}%')"
   ]
  },
  {
   "cell_type": "markdown",
   "metadata": {},
   "source": [
    "### 9. Create a Pandas data frame from the feed's entries."
   ]
  },
  {
   "cell_type": "code",
   "execution_count": 46,
   "metadata": {},
   "outputs": [],
   "source": [
    "import pandas as pd\n",
    "import re"
   ]
  },
  {
   "cell_type": "code",
   "execution_count": 47,
   "metadata": {},
   "outputs": [],
   "source": [
    "entries=pd.DataFrame(titles, columns=['Titles'])"
   ]
  },
  {
   "cell_type": "markdown",
   "metadata": {},
   "source": [
    "### 10. Count the number of entries per author and sort them in descending order."
   ]
  },
  {
   "cell_type": "code",
   "execution_count": 74,
   "metadata": {},
   "outputs": [
    {
     "data": {
      "text/plain": [
       "Nat Torkington                                      45\n",
       "Mike Loukides                                        9\n",
       "Justin Norman, Peter Skomoroch and Mike Loukides     1\n",
       "Sarah Gold                                           1\n",
       "Matthew Rocklin and Hugo Bowne-Anderson              1\n",
       "Adam Jacob, Nat Torkington and Mike Loukides         1\n",
       "Hugo Bowne-Anderson                                  1\n",
       "Mike Loukides and Steve Swoyer                       1\n",
       "Name: Authors, dtype: int64"
      ]
     },
     "execution_count": 74,
     "metadata": {},
     "output_type": "execute_result"
    }
   ],
   "source": [
    "auth=[]\n",
    "for f in range(len(reddit.entries)):\n",
    "    auth.append(reddit.entries[f].authors[0]['name'])\n",
    "entries['Authors']=auth\n",
    "entries['Authors'].value_counts()"
   ]
  },
  {
   "cell_type": "markdown",
   "metadata": {},
   "source": [
    "### 11. Add a new column to the data frame that contains the length (number of characters) of each entry title. Return a data frame that contains the title, author, and title length of each entry in descending order (longest title length at the top)."
   ]
  },
  {
   "cell_type": "code",
   "execution_count": 80,
   "metadata": {},
   "outputs": [
    {
     "data": {
      "text/html": [
       "<div>\n",
       "<style scoped>\n",
       "    .dataframe tbody tr th:only-of-type {\n",
       "        vertical-align: middle;\n",
       "    }\n",
       "\n",
       "    .dataframe tbody tr th {\n",
       "        vertical-align: top;\n",
       "    }\n",
       "\n",
       "    .dataframe thead th {\n",
       "        text-align: right;\n",
       "    }\n",
       "</style>\n",
       "<table border=\"1\" class=\"dataframe\">\n",
       "  <thead>\n",
       "    <tr style=\"text-align: right;\">\n",
       "      <th></th>\n",
       "      <th>Titles</th>\n",
       "      <th>Authors</th>\n",
       "      <th>Characters</th>\n",
       "    </tr>\n",
       "  </thead>\n",
       "  <tbody>\n",
       "    <tr>\n",
       "      <th>1</th>\n",
       "      <td>Why Best-of-Breed is a Better Choice than All-...</td>\n",
       "      <td>Matthew Rocklin and Hugo Bowne-Anderson</td>\n",
       "      <td>79</td>\n",
       "    </tr>\n",
       "    <tr>\n",
       "      <th>28</th>\n",
       "      <td>Automated Coding and the Future of Programming</td>\n",
       "      <td>Mike Loukides</td>\n",
       "      <td>46</td>\n",
       "    </tr>\n",
       "    <tr>\n",
       "      <th>53</th>\n",
       "      <td>Machine Learning and the Production Gap</td>\n",
       "      <td>Mike Loukides</td>\n",
       "      <td>39</td>\n",
       "    </tr>\n",
       "    <tr>\n",
       "      <th>3</th>\n",
       "      <td>The Least Liked Programming Languages</td>\n",
       "      <td>Mike Loukides</td>\n",
       "      <td>37</td>\n",
       "    </tr>\n",
       "    <tr>\n",
       "      <th>47</th>\n",
       "      <td>Decision-Making in a Time of Crisis</td>\n",
       "      <td>Hugo Bowne-Anderson</td>\n",
       "      <td>35</td>\n",
       "    </tr>\n",
       "    <tr>\n",
       "      <th>7</th>\n",
       "      <td>Radar trends to watch: August 2020</td>\n",
       "      <td>Mike Loukides</td>\n",
       "      <td>34</td>\n",
       "    </tr>\n",
       "    <tr>\n",
       "      <th>0</th>\n",
       "      <td>Four Short Links: 19 August 2020</td>\n",
       "      <td>Nat Torkington</td>\n",
       "      <td>32</td>\n",
       "    </tr>\n",
       "    <tr>\n",
       "      <th>11</th>\n",
       "      <td>Bringing an AI Product to Market</td>\n",
       "      <td>Justin Norman, Peter Skomoroch and Mike Loukides</td>\n",
       "      <td>32</td>\n",
       "    </tr>\n",
       "    <tr>\n",
       "      <th>2</th>\n",
       "      <td>Four short links: 14 August 2020</td>\n",
       "      <td>Nat Torkington</td>\n",
       "      <td>32</td>\n",
       "    </tr>\n",
       "    <tr>\n",
       "      <th>35</th>\n",
       "      <td>Radar trends to watch: July 2020</td>\n",
       "      <td>Mike Loukides</td>\n",
       "      <td>32</td>\n",
       "    </tr>\n",
       "    <tr>\n",
       "      <th>55</th>\n",
       "      <td>Radar trends to watch: June 2020</td>\n",
       "      <td>Mike Loukides</td>\n",
       "      <td>32</td>\n",
       "    </tr>\n",
       "    <tr>\n",
       "      <th>45</th>\n",
       "      <td>Four short links: June 19, 2020</td>\n",
       "      <td>Nat Torkington</td>\n",
       "      <td>31</td>\n",
       "    </tr>\n",
       "    <tr>\n",
       "      <th>6</th>\n",
       "      <td>Four short links: 5 August 2020</td>\n",
       "      <td>Nat Torkington</td>\n",
       "      <td>31</td>\n",
       "    </tr>\n",
       "    <tr>\n",
       "      <th>8</th>\n",
       "      <td>Four short links: 31 July 2020</td>\n",
       "      <td>Nat Torkington</td>\n",
       "      <td>30</td>\n",
       "    </tr>\n",
       "    <tr>\n",
       "      <th>9</th>\n",
       "      <td>Four short links: 30 July 2020</td>\n",
       "      <td>Nat Torkington</td>\n",
       "      <td>30</td>\n",
       "    </tr>\n",
       "    <tr>\n",
       "      <th>44</th>\n",
       "      <td>Four short links: 22 June 2020</td>\n",
       "      <td>Nat Torkington</td>\n",
       "      <td>30</td>\n",
       "    </tr>\n",
       "    <tr>\n",
       "      <th>43</th>\n",
       "      <td>Four short links: 23 June 2020</td>\n",
       "      <td>Nat Torkington</td>\n",
       "      <td>30</td>\n",
       "    </tr>\n",
       "    <tr>\n",
       "      <th>42</th>\n",
       "      <td>Four short links: 24 June 2020</td>\n",
       "      <td>Nat Torkington</td>\n",
       "      <td>30</td>\n",
       "    </tr>\n",
       "    <tr>\n",
       "      <th>40</th>\n",
       "      <td>Four short links: 25 June 2020</td>\n",
       "      <td>Nat Torkington</td>\n",
       "      <td>30</td>\n",
       "    </tr>\n",
       "    <tr>\n",
       "      <th>39</th>\n",
       "      <td>Four short links: 28 June 2020</td>\n",
       "      <td>Nat Torkington</td>\n",
       "      <td>30</td>\n",
       "    </tr>\n",
       "    <tr>\n",
       "      <th>38</th>\n",
       "      <td>Four short links: 29 June 2020</td>\n",
       "      <td>Nat Torkington</td>\n",
       "      <td>30</td>\n",
       "    </tr>\n",
       "    <tr>\n",
       "      <th>37</th>\n",
       "      <td>Four short links: 30 June 2020</td>\n",
       "      <td>Nat Torkington</td>\n",
       "      <td>30</td>\n",
       "    </tr>\n",
       "    <tr>\n",
       "      <th>48</th>\n",
       "      <td>Four short links: 16 June 2020</td>\n",
       "      <td>Nat Torkington</td>\n",
       "      <td>30</td>\n",
       "    </tr>\n",
       "    <tr>\n",
       "      <th>49</th>\n",
       "      <td>Four short links: 15 June 2020</td>\n",
       "      <td>Nat Torkington</td>\n",
       "      <td>30</td>\n",
       "    </tr>\n",
       "    <tr>\n",
       "      <th>50</th>\n",
       "      <td>Four short links: 12 June 2020</td>\n",
       "      <td>Nat Torkington</td>\n",
       "      <td>30</td>\n",
       "    </tr>\n",
       "    <tr>\n",
       "      <th>51</th>\n",
       "      <td>Four short links: 11 June 2020</td>\n",
       "      <td>Nat Torkington</td>\n",
       "      <td>30</td>\n",
       "    </tr>\n",
       "    <tr>\n",
       "      <th>52</th>\n",
       "      <td>Four short links: 10 June 2020</td>\n",
       "      <td>Nat Torkington</td>\n",
       "      <td>30</td>\n",
       "    </tr>\n",
       "    <tr>\n",
       "      <th>13</th>\n",
       "      <td>Four short links: 27 July 2020</td>\n",
       "      <td>Nat Torkington</td>\n",
       "      <td>30</td>\n",
       "    </tr>\n",
       "    <tr>\n",
       "      <th>23</th>\n",
       "      <td>Four short links: 15 July 2020</td>\n",
       "      <td>Nat Torkington</td>\n",
       "      <td>30</td>\n",
       "    </tr>\n",
       "    <tr>\n",
       "      <th>27</th>\n",
       "      <td>Four short links: 10 July 2020</td>\n",
       "      <td>Nat Torkington</td>\n",
       "      <td>30</td>\n",
       "    </tr>\n",
       "    <tr>\n",
       "      <th>26</th>\n",
       "      <td>Four short links: 13 July 2020</td>\n",
       "      <td>Nat Torkington</td>\n",
       "      <td>30</td>\n",
       "    </tr>\n",
       "    <tr>\n",
       "      <th>14</th>\n",
       "      <td>Four short links: 24 July 2020</td>\n",
       "      <td>Nat Torkington</td>\n",
       "      <td>30</td>\n",
       "    </tr>\n",
       "    <tr>\n",
       "      <th>15</th>\n",
       "      <td>Four short links: 26 July 2020</td>\n",
       "      <td>Nat Torkington</td>\n",
       "      <td>30</td>\n",
       "    </tr>\n",
       "    <tr>\n",
       "      <th>16</th>\n",
       "      <td>Four short links: 22 July 2020</td>\n",
       "      <td>Nat Torkington</td>\n",
       "      <td>30</td>\n",
       "    </tr>\n",
       "    <tr>\n",
       "      <th>10</th>\n",
       "      <td>Four short links: 29 July 2020</td>\n",
       "      <td>Nat Torkington</td>\n",
       "      <td>30</td>\n",
       "    </tr>\n",
       "    <tr>\n",
       "      <th>18</th>\n",
       "      <td>Four short links: 21 July 2020</td>\n",
       "      <td>Nat Torkington</td>\n",
       "      <td>30</td>\n",
       "    </tr>\n",
       "    <tr>\n",
       "      <th>19</th>\n",
       "      <td>Four short links: 20 July 2020</td>\n",
       "      <td>Nat Torkington</td>\n",
       "      <td>30</td>\n",
       "    </tr>\n",
       "    <tr>\n",
       "      <th>20</th>\n",
       "      <td>Four short links: 17 July 2020</td>\n",
       "      <td>Nat Torkington</td>\n",
       "      <td>30</td>\n",
       "    </tr>\n",
       "    <tr>\n",
       "      <th>21</th>\n",
       "      <td>Four short links: 16 July 2020</td>\n",
       "      <td>Nat Torkington</td>\n",
       "      <td>30</td>\n",
       "    </tr>\n",
       "    <tr>\n",
       "      <th>22</th>\n",
       "      <td>Microservices Adoption in 2020</td>\n",
       "      <td>Mike Loukides and Steve Swoyer</td>\n",
       "      <td>30</td>\n",
       "    </tr>\n",
       "    <tr>\n",
       "      <th>46</th>\n",
       "      <td>Four short links: 17 June 2020</td>\n",
       "      <td>Nat Torkington</td>\n",
       "      <td>30</td>\n",
       "    </tr>\n",
       "    <tr>\n",
       "      <th>25</th>\n",
       "      <td>Four short links: 14 July 2020</td>\n",
       "      <td>Nat Torkington</td>\n",
       "      <td>30</td>\n",
       "    </tr>\n",
       "    <tr>\n",
       "      <th>57</th>\n",
       "      <td>Four short links: 5 June 2020</td>\n",
       "      <td>Nat Torkington</td>\n",
       "      <td>29</td>\n",
       "    </tr>\n",
       "    <tr>\n",
       "      <th>58</th>\n",
       "      <td>Four short links: 4 June 2020</td>\n",
       "      <td>Nat Torkington</td>\n",
       "      <td>29</td>\n",
       "    </tr>\n",
       "    <tr>\n",
       "      <th>54</th>\n",
       "      <td>Four short links: 9 June 2020</td>\n",
       "      <td>Nat Torkington</td>\n",
       "      <td>29</td>\n",
       "    </tr>\n",
       "    <tr>\n",
       "      <th>56</th>\n",
       "      <td>Four short links: 8 June 2020</td>\n",
       "      <td>Nat Torkington</td>\n",
       "      <td>29</td>\n",
       "    </tr>\n",
       "    <tr>\n",
       "      <th>30</th>\n",
       "      <td>Four short links: 8 July 2020</td>\n",
       "      <td>Nat Torkington</td>\n",
       "      <td>29</td>\n",
       "    </tr>\n",
       "    <tr>\n",
       "      <th>36</th>\n",
       "      <td>Four short links: 1 July 2020</td>\n",
       "      <td>Nat Torkington</td>\n",
       "      <td>29</td>\n",
       "    </tr>\n",
       "    <tr>\n",
       "      <th>34</th>\n",
       "      <td>Four short links: 2 July 2020</td>\n",
       "      <td>Nat Torkington</td>\n",
       "      <td>29</td>\n",
       "    </tr>\n",
       "    <tr>\n",
       "      <th>33</th>\n",
       "      <td>Four short links: 3 July 2020</td>\n",
       "      <td>Nat Torkington</td>\n",
       "      <td>29</td>\n",
       "    </tr>\n",
       "    <tr>\n",
       "      <th>32</th>\n",
       "      <td>Four short links: 6 July 2020</td>\n",
       "      <td>Nat Torkington</td>\n",
       "      <td>29</td>\n",
       "    </tr>\n",
       "    <tr>\n",
       "      <th>31</th>\n",
       "      <td>Four short links: 7 July 2020</td>\n",
       "      <td>Nat Torkington</td>\n",
       "      <td>29</td>\n",
       "    </tr>\n",
       "    <tr>\n",
       "      <th>29</th>\n",
       "      <td>Four short links: 9 July 2020</td>\n",
       "      <td>Nat Torkington</td>\n",
       "      <td>29</td>\n",
       "    </tr>\n",
       "    <tr>\n",
       "      <th>4</th>\n",
       "      <td>Four short links: 11 Aug 2020</td>\n",
       "      <td>Nat Torkington</td>\n",
       "      <td>29</td>\n",
       "    </tr>\n",
       "    <tr>\n",
       "      <th>41</th>\n",
       "      <td>COVID-19 and Complex Systems</td>\n",
       "      <td>Mike Loukides</td>\n",
       "      <td>28</td>\n",
       "    </tr>\n",
       "    <tr>\n",
       "      <th>5</th>\n",
       "      <td>Four short links: 7 Aug 2020</td>\n",
       "      <td>Nat Torkington</td>\n",
       "      <td>28</td>\n",
       "    </tr>\n",
       "    <tr>\n",
       "      <th>59</th>\n",
       "      <td>The Business of Open Source</td>\n",
       "      <td>Adam Jacob, Nat Torkington and Mike Loukides</td>\n",
       "      <td>27</td>\n",
       "    </tr>\n",
       "    <tr>\n",
       "      <th>17</th>\n",
       "      <td>AI, Protests, and Justice</td>\n",
       "      <td>Mike Loukides</td>\n",
       "      <td>25</td>\n",
       "    </tr>\n",
       "    <tr>\n",
       "      <th>24</th>\n",
       "      <td>Society-Centered Design</td>\n",
       "      <td>Sarah Gold</td>\n",
       "      <td>23</td>\n",
       "    </tr>\n",
       "    <tr>\n",
       "      <th>12</th>\n",
       "      <td>Power, Harms, and Data</td>\n",
       "      <td>Mike Loukides</td>\n",
       "      <td>22</td>\n",
       "    </tr>\n",
       "  </tbody>\n",
       "</table>\n",
       "</div>"
      ],
      "text/plain": [
       "                                               Titles  \\\n",
       "1   Why Best-of-Breed is a Better Choice than All-...   \n",
       "28     Automated Coding and the Future of Programming   \n",
       "53            Machine Learning and the Production Gap   \n",
       "3               The Least Liked Programming Languages   \n",
       "47                Decision-Making in a Time of Crisis   \n",
       "7                  Radar trends to watch: August 2020   \n",
       "0                    Four Short Links: 19 August 2020   \n",
       "11                   Bringing an AI Product to Market   \n",
       "2                    Four short links: 14 August 2020   \n",
       "35                   Radar trends to watch: July 2020   \n",
       "55                   Radar trends to watch: June 2020   \n",
       "45                    Four short links: June 19, 2020   \n",
       "6                     Four short links: 5 August 2020   \n",
       "8                      Four short links: 31 July 2020   \n",
       "9                      Four short links: 30 July 2020   \n",
       "44                     Four short links: 22 June 2020   \n",
       "43                     Four short links: 23 June 2020   \n",
       "42                     Four short links: 24 June 2020   \n",
       "40                     Four short links: 25 June 2020   \n",
       "39                     Four short links: 28 June 2020   \n",
       "38                     Four short links: 29 June 2020   \n",
       "37                     Four short links: 30 June 2020   \n",
       "48                     Four short links: 16 June 2020   \n",
       "49                     Four short links: 15 June 2020   \n",
       "50                     Four short links: 12 June 2020   \n",
       "51                     Four short links: 11 June 2020   \n",
       "52                     Four short links: 10 June 2020   \n",
       "13                     Four short links: 27 July 2020   \n",
       "23                     Four short links: 15 July 2020   \n",
       "27                     Four short links: 10 July 2020   \n",
       "26                     Four short links: 13 July 2020   \n",
       "14                     Four short links: 24 July 2020   \n",
       "15                     Four short links: 26 July 2020   \n",
       "16                     Four short links: 22 July 2020   \n",
       "10                     Four short links: 29 July 2020   \n",
       "18                     Four short links: 21 July 2020   \n",
       "19                     Four short links: 20 July 2020   \n",
       "20                     Four short links: 17 July 2020   \n",
       "21                     Four short links: 16 July 2020   \n",
       "22                     Microservices Adoption in 2020   \n",
       "46                     Four short links: 17 June 2020   \n",
       "25                     Four short links: 14 July 2020   \n",
       "57                      Four short links: 5 June 2020   \n",
       "58                      Four short links: 4 June 2020   \n",
       "54                      Four short links: 9 June 2020   \n",
       "56                      Four short links: 8 June 2020   \n",
       "30                      Four short links: 8 July 2020   \n",
       "36                      Four short links: 1 July 2020   \n",
       "34                      Four short links: 2 July 2020   \n",
       "33                      Four short links: 3 July 2020   \n",
       "32                      Four short links: 6 July 2020   \n",
       "31                      Four short links: 7 July 2020   \n",
       "29                      Four short links: 9 July 2020   \n",
       "4                       Four short links: 11 Aug 2020   \n",
       "41                       COVID-19 and Complex Systems   \n",
       "5                        Four short links: 7 Aug 2020   \n",
       "59                        The Business of Open Source   \n",
       "17                          AI, Protests, and Justice   \n",
       "24                            Society-Centered Design   \n",
       "12                             Power, Harms, and Data   \n",
       "\n",
       "                                             Authors  Characters  \n",
       "1            Matthew Rocklin and Hugo Bowne-Anderson          79  \n",
       "28                                     Mike Loukides          46  \n",
       "53                                     Mike Loukides          39  \n",
       "3                                      Mike Loukides          37  \n",
       "47                               Hugo Bowne-Anderson          35  \n",
       "7                                      Mike Loukides          34  \n",
       "0                                     Nat Torkington          32  \n",
       "11  Justin Norman, Peter Skomoroch and Mike Loukides          32  \n",
       "2                                     Nat Torkington          32  \n",
       "35                                     Mike Loukides          32  \n",
       "55                                     Mike Loukides          32  \n",
       "45                                    Nat Torkington          31  \n",
       "6                                     Nat Torkington          31  \n",
       "8                                     Nat Torkington          30  \n",
       "9                                     Nat Torkington          30  \n",
       "44                                    Nat Torkington          30  \n",
       "43                                    Nat Torkington          30  \n",
       "42                                    Nat Torkington          30  \n",
       "40                                    Nat Torkington          30  \n",
       "39                                    Nat Torkington          30  \n",
       "38                                    Nat Torkington          30  \n",
       "37                                    Nat Torkington          30  \n",
       "48                                    Nat Torkington          30  \n",
       "49                                    Nat Torkington          30  \n",
       "50                                    Nat Torkington          30  \n",
       "51                                    Nat Torkington          30  \n",
       "52                                    Nat Torkington          30  \n",
       "13                                    Nat Torkington          30  \n",
       "23                                    Nat Torkington          30  \n",
       "27                                    Nat Torkington          30  \n",
       "26                                    Nat Torkington          30  \n",
       "14                                    Nat Torkington          30  \n",
       "15                                    Nat Torkington          30  \n",
       "16                                    Nat Torkington          30  \n",
       "10                                    Nat Torkington          30  \n",
       "18                                    Nat Torkington          30  \n",
       "19                                    Nat Torkington          30  \n",
       "20                                    Nat Torkington          30  \n",
       "21                                    Nat Torkington          30  \n",
       "22                    Mike Loukides and Steve Swoyer          30  \n",
       "46                                    Nat Torkington          30  \n",
       "25                                    Nat Torkington          30  \n",
       "57                                    Nat Torkington          29  \n",
       "58                                    Nat Torkington          29  \n",
       "54                                    Nat Torkington          29  \n",
       "56                                    Nat Torkington          29  \n",
       "30                                    Nat Torkington          29  \n",
       "36                                    Nat Torkington          29  \n",
       "34                                    Nat Torkington          29  \n",
       "33                                    Nat Torkington          29  \n",
       "32                                    Nat Torkington          29  \n",
       "31                                    Nat Torkington          29  \n",
       "29                                    Nat Torkington          29  \n",
       "4                                     Nat Torkington          29  \n",
       "41                                     Mike Loukides          28  \n",
       "5                                     Nat Torkington          28  \n",
       "59      Adam Jacob, Nat Torkington and Mike Loukides          27  \n",
       "17                                     Mike Loukides          25  \n",
       "24                                        Sarah Gold          23  \n",
       "12                                     Mike Loukides          22  "
      ]
     },
     "execution_count": 80,
     "metadata": {},
     "output_type": "execute_result"
    }
   ],
   "source": [
    "length=[]\n",
    "for i in range(len(entries['Titles'])):\n",
    "    length.append(len(entries['Titles'][i]))\n",
    "entries['Characters']=length\n",
    "entries.sort_values('Characters',ascending=False)"
   ]
  },
  {
   "cell_type": "markdown",
   "metadata": {},
   "source": [
    "### 12. Create a list of entry titles whose summary includes the phrase \"machine learning.\""
   ]
  },
  {
   "cell_type": "code",
   "execution_count": 85,
   "metadata": {},
   "outputs": [
    {
     "data": {
      "text/plain": [
       "['Four short links: 8 July 2020', 'Machine Learning and the Production Gap']"
      ]
     },
     "execution_count": 85,
     "metadata": {},
     "output_type": "execute_result"
    }
   ],
   "source": [
    "summary=[]\n",
    "mahi='machine learning'\n",
    "for c in range(len(reddit.entries)):\n",
    "    if mahi in reddit.entries[c].summary:\n",
    "        summary.append(titles[c])\n",
    "summary"
   ]
  }
 ],
 "metadata": {
  "kernelspec": {
   "display_name": "Python 3",
   "language": "python",
   "name": "python3"
  },
  "language_info": {
   "codemirror_mode": {
    "name": "ipython",
    "version": 3
   },
   "file_extension": ".py",
   "mimetype": "text/x-python",
   "name": "python",
   "nbconvert_exporter": "python",
   "pygments_lexer": "ipython3",
   "version": "3.7.6"
  }
 },
 "nbformat": 4,
 "nbformat_minor": 2
}
